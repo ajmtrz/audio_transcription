{
 "cells": [
  {
   "cell_type": "code",
   "execution_count": null,
   "metadata": {},
   "outputs": [],
   "source": [
    "import whisper\n",
    "import warnings\n",
    "warnings.filterwarnings('ignore')"
   ]
  },
  {
   "cell_type": "code",
   "execution_count": null,
   "metadata": {},
   "outputs": [],
   "source": [
    "# Ruta del archivo de audio original\n",
    "audio_file_path = \"/mnt/c/Users/Administrador/Downloads/sesion_acta_7.wav\"\n",
    "# Cargar el modelo (puedes elegir entre 'tiny', 'base', 'small', 'medium', 'large')\n",
    "model = whisper.load_model(\"base\")\n",
    "# Transcribir el audio\n",
    "result = model.transcribe(audio_file_path, language=\"es\")\n",
    "print(\"Transcripción:\", result[\"text\"])"
   ]
  },
  {
   "cell_type": "code",
   "execution_count": null,
   "metadata": {},
   "outputs": [],
   "source": []
  }
 ],
 "metadata": {
  "kernelspec": {
   "display_name": "vscode",
   "language": "python",
   "name": "python3"
  },
  "language_info": {
   "codemirror_mode": {
    "name": "ipython",
    "version": 3
   },
   "file_extension": ".py",
   "mimetype": "text/x-python",
   "name": "python",
   "nbconvert_exporter": "python",
   "pygments_lexer": "ipython3",
   "version": "3.12.7"
  }
 },
 "nbformat": 4,
 "nbformat_minor": 2
}
